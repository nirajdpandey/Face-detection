{
 "cells": [
  {
   "cell_type": "markdown",
   "metadata": {},
   "source": [
    "\n",
    "\n",
    "### Author - Niraj Dev Pandey \n",
    "`pandey@uni-hildesheim.de`"
   ]
  },
  {
   "cell_type": "code",
   "execution_count": 1,
   "metadata": {},
   "outputs": [
    {
     "name": "stderr",
     "output_type": "stream",
     "text": [
      "C:\\Users\\Dell\\Anaconda3\\lib\\site-packages\\h5py\\__init__.py:36: FutureWarning: Conversion of the second argument of issubdtype from `float` to `np.floating` is deprecated. In future, it will be treated as `np.float64 == np.dtype(float).type`.\n",
      "  from ._conv import register_converters as _register_converters\n",
      "Using TensorFlow backend.\n"
     ]
    }
   ],
   "source": [
    "from sklearn.datasets import fetch_olivetti_faces\n",
    "from sklearn.preprocessing import OneHotEncoder\n",
    "from sklearn.model_selection import train_test_split\n",
    "import matplotlib.pyplot as plt\n",
    "from keras.utils import np_utils\n",
    "import tensorflow as tf\n",
    "from sklearn import datasets\n",
    "import numpy as np \n",
    "import pandas as pd\n",
    "import warnings\n",
    "warnings.filterwarnings(\"ignore\")"
   ]
  },
  {
   "cell_type": "code",
   "execution_count": 2,
   "metadata": {},
   "outputs": [],
   "source": [
    "olivetti = fetch_olivetti_faces()\n",
    "X = olivetti.data\n",
    "y = olivetti.target"
   ]
  },
  {
   "cell_type": "markdown",
   "metadata": {},
   "source": [
    "### Visualization of the data-set"
   ]
  },
  {
   "cell_type": "code",
   "execution_count": 3,
   "metadata": {},
   "outputs": [],
   "source": [
    "image_shape = (64, 64)\n",
    "\n",
    "faces = X\n",
    "n_samples, n_features = X.shape\n",
    "\n",
    "\n",
    "def plot_face(ax, img, image_shape):\n",
    "    vmax = max(img.max(), -img.min())\n",
    "    ax.imshow(img.reshape(image_shape), cmap=plt.cm.gray,\n",
    "              interpolation='nearest',\n",
    "              vmin=-vmax, vmax=vmax)\n",
    "    return ax"
   ]
  },
  {
   "cell_type": "code",
   "execution_count": 4,
   "metadata": {},
   "outputs": [],
   "source": [
    "labels = y\n",
    "# take images from only two individuals\n",
    "X_flat = faces[(labels == 0) | (labels == 1)]\n",
    "X = X_flat.reshape((20, 64, 64, 1))\n",
    "Y = labels[(labels == 0) | (labels == 1)]"
   ]
  },
  {
   "cell_type": "code",
   "execution_count": 6,
   "metadata": {},
   "outputs": [
    {
     "data": {
      "image/png": "[encoded data removed]",
      "text/plain": [
       "<matplotlib.figure.Figure at 0x1d196cdd9e8>"
      ]
     },
     "metadata": {},
     "output_type": "display_data"
    }
   ],
   "source": [
    "fig, ax = plt.subplots(1, 2, figsize=(10, 5))\n",
    "ax[0] = plot_face(ax[0], X[Y == 0][0], image_shape)\n",
    "ax[1] = plot_face(ax[1], X[Y == 1][0], image_shape)\n",
    "plt.savefig('olivetti1.jpg')\n",
    "plt.show()"
   ]
  },
  {
   "cell_type": "markdown",
   "metadata": {},
   "source": [
    "### Dividing the data into train and test"
   ]
  },
  {
   "cell_type": "code",
   "execution_count": 8,
   "metadata": {},
   "outputs": [],
   "source": [
    "X_again = olivetti.data\n",
    "y_again = olivetti.target"
   ]
  },
  {
   "cell_type": "code",
   "execution_count": 9,
   "metadata": {},
   "outputs": [],
   "source": [
    "X_train, X_test, Y_train, Y_test = train_test_split(X_again,y_again, test_size=0.1,random_state=0)"
   ]
  },
  {
   "cell_type": "code",
   "execution_count": 10,
   "metadata": {},
   "outputs": [
    {
     "data": {
      "text/plain": [
       "((360,), (40,))"
      ]
     },
     "execution_count": 10,
     "metadata": {},
     "output_type": "execute_result"
    }
   ],
   "source": [
    "Y_train.shape,Y_test.shape"
   ]
  },
  {
   "cell_type": "code",
   "execution_count": 11,
   "metadata": {},
   "outputs": [],
   "source": [
    "Y_train = Y_train.reshape(360,1)\n",
    "Y_test = Y_test.reshape(40,1)"
   ]
  },
  {
   "cell_type": "code",
   "execution_count": 12,
   "metadata": {},
   "outputs": [
    {
     "name": "stdout",
     "output_type": "stream",
     "text": [
      "(360, 4096) float32\n",
      "(40, 4096) float32\n"
     ]
    }
   ],
   "source": [
    "X_train = X_train.astype('float32')\n",
    "X_test = X_test.astype('float32')\n",
    "\n",
    "print(X_train.shape, X_train.dtype)\n",
    "print(X_test.shape, X_test.dtype)"
   ]
  },
  {
   "cell_type": "code",
   "execution_count": 13,
   "metadata": {},
   "outputs": [],
   "source": [
    "Y_train = np_utils.to_categorical(Y_train, 40)\n",
    "Y_test = np_utils.to_categorical(Y_test, 40)"
   ]
  },
  {
   "cell_type": "markdown",
   "metadata": {},
   "source": [
    "### Parameters initialization "
   ]
  },
  {
   "cell_type": "code",
   "execution_count": 14,
   "metadata": {},
   "outputs": [],
   "source": [
    "learning_rate = 0.01\n",
    "training_epochs = 200\n",
    "display_step = 10"
   ]
  },
  {
   "cell_type": "code",
   "execution_count": 15,
   "metadata": {},
   "outputs": [],
   "source": [
    "x = tf.placeholder(tf.float32, [None, 4096], name='X')\n",
    "y = tf.placeholder(tf.float32, [None, 40], name= 'Y')"
   ]
  },
  {
   "cell_type": "code",
   "execution_count": 16,
   "metadata": {},
   "outputs": [
    {
     "data": {
      "text/plain": [
       "<tf.Tensor 'biases:0' shape=() dtype=string>"
      ]
     },
     "execution_count": 16,
     "metadata": {},
     "output_type": "execute_result"
    }
   ],
   "source": [
    "W = tf.Variable(tf.zeros([4096, 40]), name= 'W')\n",
    "b = tf.Variable(tf.zeros([40]), name= 'B')\n",
    "tf.summary.histogram('weights', W)\n",
    "tf.summary.histogram('biases', b)"
   ]
  },
  {
   "cell_type": "code",
   "execution_count": 17,
   "metadata": {},
   "outputs": [
    {
     "data": {
      "text/plain": [
       "(40,)"
      ]
     },
     "execution_count": 17,
     "metadata": {},
     "output_type": "execute_result"
    }
   ],
   "source": [
    "w= np.random.randint((2),size=(4096,40))\n",
    "a=np.matmul(X_train[1],w )\n",
    "a.shape"
   ]
  },
  {
   "cell_type": "markdown",
   "metadata": {},
   "source": [
    "There are many activation function. Such as, linear, sigmoid& Tanh. Here we are defining softmax function"
   ]
  },
  {
   "cell_type": "markdown",
   "metadata": {},
   "source": [
    "![softmax](activation_functions.png)"
   ]
  },
  {
   "cell_type": "markdown",
   "metadata": {},
   "source": [
    "1. cross entropy as a loss\n",
    "2. Gradient Descent optimizer"
   ]
  },
  {
   "cell_type": "code",
   "execution_count": 18,
   "metadata": {},
   "outputs": [],
   "source": [
    "pred = tf.nn.softmax(tf.matmul(x, W) + b)\n",
    "with tf.name_scope('loss'):\n",
    "    cost = tf.reduce_mean(-tf.reduce_sum(y*tf.log(pred), reduction_indices=1))\n",
    "    \n",
    "with tf.name_scope('train'):\n",
    "    optimizer = tf.train.GradientDescentOptimizer(learning_rate).minimize(cost)\n",
    "init = tf.global_variables_initializer()"
   ]
  },
  {
   "cell_type": "code",
   "execution_count": 19,
   "metadata": {},
   "outputs": [],
   "source": [
    "\n",
    "correct_prediction = tf.equal(tf.argmax(pred, 1), tf.argmax(y, 1))\n",
    "\n",
    "with tf.name_scope('accuracy'):\n",
    "    accuracy = tf.reduce_mean(tf.cast(correct_prediction, tf.float32))"
   ]
  },
  {
   "cell_type": "code",
   "execution_count": 20,
   "metadata": {},
   "outputs": [],
   "source": [
    "merged_summary = tf.summary.merge_all()\n",
    "writer = tf.summary.FileWriter('C:/Users/Dell/Documents/DDA Lab/Exercise-05')"
   ]
  },
  {
   "cell_type": "markdown",
   "metadata": {},
   "source": [
    "![title](tensors_flowing.gif \"tensorboard session\")"
   ]
  },
  {
   "cell_type": "code",
   "execution_count": 21,
   "metadata": {},
   "outputs": [
    {
     "name": "stdout",
     "output_type": "stream",
     "text": [
      "Epoch: 0010 cost= 0.008482750\n",
      "Epoch: 0020 cost= 0.000826044\n",
      "Epoch: 0030 cost= 0.004761930\n",
      "Epoch: 0040 cost= 0.000561216\n",
      "Epoch: 0050 cost= 0.000601711\n",
      "Epoch: 0060 cost= 0.001509016\n",
      "Epoch: 0070 cost= 0.002568620\n",
      "Epoch: 0080 cost= 0.007325714\n",
      "Epoch: 0090 cost= 0.015319750\n",
      "Epoch: 0100 cost= 0.003711128\n",
      "Epoch: 0110 cost= 0.002937634\n",
      "Epoch: 0120 cost= 0.004432833\n",
      "Epoch: 0130 cost= 0.001397453\n",
      "Epoch: 0140 cost= 0.003832642\n",
      "Epoch: 0150 cost= 0.023327807\n",
      "Epoch: 0160 cost= 0.002399998\n",
      "Epoch: 0170 cost= 0.001890180\n",
      "Epoch: 0180 cost= 0.001417330\n",
      "Epoch: 0190 cost= 0.001423298\n",
      "Epoch: 0200 cost= 0.002198667\n",
      "completely Optimized!\n",
      "Your model Accuracy is: 0.975\n",
      "Wall time: 0 ns\n"
     ]
    }
   ],
   "source": [
    "import numpy as np\n",
    "import time\n",
    "with tf.Session() as sess:\n",
    "    sess.run(init)\n",
    "    accuracy_train = []\n",
    "    accuracy_test = []\n",
    "\n",
    "\n",
    "    for epoch in range(training_epochs):\n",
    "\n",
    "        idx = np.random.permutation(X_train.shape[0])\n",
    "        for i in idx:\n",
    "\n",
    "            _, c = sess.run([optimizer, cost], feed_dict={x: X_train[i:i+1],\n",
    "                                                          y: Y_train[i:i+1]})\n",
    "\n",
    "        if (epoch+1) % display_step == 0:\n",
    "            print (\"Epoch:\", '%04d' % (epoch+1), \"cost=\", \"{:.9f}\".format(c))\n",
    "            accuracy_train.append(accuracy.eval({x: X_train, y: Y_train}))\n",
    "            accuracy_test.append(accuracy.eval({x: X_test, y: Y_test}))\n",
    "            s = sess.run(merged_summary, feed_dict={x: X_train, y: Y_train})\n",
    "            writer.add_summary(s, epoch)\n",
    "\n",
    "    print (\"completely Optimized!\")\n",
    "    print (\"Your model Accuracy is:\", accuracy.eval({x: X_test, y: Y_test}))\n",
    "    %time()"
   ]
  },
  {
   "cell_type": "code",
   "execution_count": 23,
   "metadata": {},
   "outputs": [
    {
     "data": {
      "image/png": "[encoded data removed]",
      "text/plain": [
       "<matplotlib.figure.Figure at 0x1d199731400>"
      ]
     },
     "metadata": {},
     "output_type": "display_data"
    }
   ],
   "source": [
    "import matplotlib.pyplot as plt\n",
    "plt.style.use('ggplot')\n",
    "plt.plot(accuracy_train,'k-', label='Training Data',color ='r')\n",
    "plt.plot(accuracy_test ,'k--', label='Test Data',color='g')\n",
    "plt.xlabel(\"Epochs (in 10s)\")\n",
    "plt.ylabel(\"Accuracy\")\n",
    "plt.legend()\n",
    "plt.savefig('accuracy.jpg')\n",
    "plt.show()"
   ]
  },
  {
   "cell_type": "code",
   "execution_count": 21,
   "metadata": {},
   "outputs": [],
   "source": [
    "writer.add_graph(sess.graph)"
   ]
  },
  {
   "cell_type": "markdown",
   "metadata": {},
   "source": [
    "![title](tensorboard-2.gif \"tensorboard visualization\")"
   ]
  },
  {
   "cell_type": "markdown",
   "metadata": {},
   "source": [
    "## Thanks a Lot"
   ]
  }
 ],
 "metadata": {
  "anaconda-cloud": {},
  "kernelspec": {
   "display_name": "Python [default]",
   "language": "python",
   "name": "python3"
  },
  "language_info": {
   "codemirror_mode": {
    "name": "ipython",
    "version": 3
   },
   "file_extension": ".py",
   "mimetype": "text/x-python",
   "name": "python",
   "nbconvert_exporter": "python",
   "pygments_lexer": "ipython3",
   "version": "3.5.4"
  }
 },
 "nbformat": 4,
 "nbformat_minor": 2
}
